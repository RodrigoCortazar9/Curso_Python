{
 "cells": [
  {
   "cell_type": "code",
   "execution_count": 5,
   "metadata": {},
   "outputs": [
    {
     "name": "stdout",
     "output_type": "stream",
     "text": [
      "Funcion para sumar dos numeros\n",
      "    ## Parametros\n",
      "    a, b : valores enteros\n",
      "    ## Return\n",
      "    La suma de a con b\n",
      "    \n",
      "27\n"
     ]
    }
   ],
   "source": [
    "def sumar(a,b):\n",
    "    resultado = a+b\n",
    "    print(\"\"\"Funcion para sumar dos numeros\n",
    "    ## Parametros\n",
    "    a, b : valores enteros\n",
    "    ## Return\n",
    "    La suma de a con b\n",
    "    \"\"\")\n",
    "    return resultado\n",
    "print(sumar(8,19))"
   ]
  },
  {
   "attachments": {},
   "cell_type": "markdown",
   "metadata": {},
   "source": [
    "## Actividad\n",
    "Crear una funcion que se llame dolares a pesos. Recibira un parametro: Dolares. Y que devuelva cuanto es la conversion a pesos mexicano"
   ]
  },
  {
   "cell_type": "code",
   "execution_count": 8,
   "metadata": {},
   "outputs": [
    {
     "data": {
      "text/plain": [
       "494.00000000000006"
      ]
     },
     "execution_count": 8,
     "metadata": {},
     "output_type": "execute_result"
    }
   ],
   "source": [
    "def dolaresAPesos(dolares):\n",
    "    \"\"\"Funcion para devolver dolares a pesos\n",
    "\n",
    "    Args:\n",
    "        dolares\n",
    "\n",
    "    Returns:\n",
    "        dolares*19.76\n",
    "    \"\"\"\n",
    "    pesos = dolares*19.76\n",
    "    return pesos\n",
    "dolaresAPesos(25)"
   ]
  },
  {
   "attachments": {},
   "cell_type": "markdown",
   "metadata": {},
   "source": [
    "## Actividad 2\n",
    "Funcion para sumar una lista"
   ]
  },
  {
   "cell_type": "code",
   "execution_count": 11,
   "metadata": {},
   "outputs": [],
   "source": [
    "def promediar(lista):\n",
    "    return sum(lista)/len(lista)\n"
   ]
  },
  {
   "cell_type": "code",
   "execution_count": 12,
   "metadata": {},
   "outputs": [
    {
     "data": {
      "text/plain": [
       "3.0"
      ]
     },
     "execution_count": 12,
     "metadata": {},
     "output_type": "execute_result"
    }
   ],
   "source": [
    "a = [1,2,3,4,5]\n",
    "promediar(a)\n",
    "    "
   ]
  },
  {
   "attachments": {},
   "cell_type": "markdown",
   "metadata": {},
   "source": [
    "## Enumerate"
   ]
  },
  {
   "cell_type": "code",
   "execution_count": 3,
   "metadata": {},
   "outputs": [
    {
     "name": "stdout",
     "output_type": "stream",
     "text": [
      "Indice: 0   |   Elemento: uno\n",
      "Indice: 1   |   Elemento: dos\n",
      "Indice: 2   |   Elemento: tres\n",
      "Indice: 3   |   Elemento: cuatro\n"
     ]
    }
   ],
   "source": [
    "lista = [\"uno\",\"dos\",\"tres\",\"cuatro\"]\n",
    "for indice, elemento in enumerate(lista):\n",
    "    print(f\"Indice: {indice}   |   Elemento: {elemento}\")"
   ]
  }
 ],
 "metadata": {
  "kernelspec": {
   "display_name": "Python 3.11.0 64-bit",
   "language": "python",
   "name": "python3"
  },
  "language_info": {
   "codemirror_mode": {
    "name": "ipython",
    "version": 3
   },
   "file_extension": ".py",
   "mimetype": "text/x-python",
   "name": "python",
   "nbconvert_exporter": "python",
   "pygments_lexer": "ipython3",
   "version": "3.11.0"
  },
  "orig_nbformat": 4,
  "vscode": {
   "interpreter": {
    "hash": "c261aea317cc0286b3b3261fbba9abdec21eaa57589985bb7a274bf54d6cc0a7"
   }
  }
 },
 "nbformat": 4,
 "nbformat_minor": 2
}
