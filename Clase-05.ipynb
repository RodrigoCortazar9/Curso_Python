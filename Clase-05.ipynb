{
 "cells": [
  {
   "attachments": {},
   "cell_type": "markdown",
   "metadata": {},
   "source": [
    "## Librerias"
   ]
  },
  {
   "cell_type": "code",
   "execution_count": 2,
   "metadata": {},
   "outputs": [
    {
     "name": "stdout",
     "output_type": "stream",
     "text": [
      "2\n"
     ]
    }
   ],
   "source": [
    "import random\n",
    "print(random.randint(0,10))"
   ]
  },
  {
   "attachments": {},
   "cell_type": "markdown",
   "metadata": {},
   "source": [
    "## Actividad 8\n",
    "Realizar un juego de dados, preguntaras al usuario que trate de adivinar el numero dado, haces la llamada a la funcion randint entre 1 y 6 e imprimes si el numero que eligio es igual al numero que salio el dado"
   ]
  },
  {
   "cell_type": "code",
   "execution_count": 3,
   "metadata": {},
   "outputs": [
    {
     "name": "stdout",
     "output_type": "stream",
     "text": [
      "No le atino\n"
     ]
    }
   ],
   "source": [
    "import random\n",
    "aleatorio = random.randint(1,6)\n",
    "numero = int(input(\"Ingrese un numero dentro del rango [1,6]: \"))\n",
    "if aleatorio == numero: \n",
    "    print(\"Le atino\")\n",
    "else:\n",
    "    print(\"No le atino\")"
   ]
  },
  {
   "attachments": {},
   "cell_type": "markdown",
   "metadata": {},
   "source": [
    "## Actividad 9\n",
    "Crear una lista vacia y meter 10 numeros aleatorios con la funcion randint que vayan entre 0 y 30"
   ]
  },
  {
   "cell_type": "code",
   "execution_count": 4,
   "metadata": {},
   "outputs": [
    {
     "name": "stdout",
     "output_type": "stream",
     "text": [
      "[3, 23, 26, 15, 14, 13, 21, 9, 13, 14]\n"
     ]
    }
   ],
   "source": [
    "import random\n",
    "lista = []\n",
    "for i in range(10):\n",
    "    lista.append(random.randint(0,30))\n",
    "print(lista)\n"
   ]
  },
  {
   "attachments": {},
   "cell_type": "markdown",
   "metadata": {},
   "source": [
    "## Random shuffle\n",
    "Desordena los elementos"
   ]
  },
  {
   "cell_type": "code",
   "execution_count": 5,
   "metadata": {},
   "outputs": [
    {
     "name": "stdout",
     "output_type": "stream",
     "text": [
      "['Ciruela', 'Mora', 'Uva', 'Kiwi', 'Manzana']\n"
     ]
    }
   ],
   "source": [
    "mis_frutas = [\"Uva\",\"Kiwi\",\"Manzana\",\"Mora\",\"Ciruela\"]\n",
    "random.shuffle(mis_frutas)\n",
    "print(mis_frutas)"
   ]
  },
  {
   "attachments": {},
   "cell_type": "markdown",
   "metadata": {},
   "source": [
    "## Random choice\n",
    "Elige un elemento aleatorio de una lista o cadena"
   ]
  },
  {
   "cell_type": "code",
   "execution_count": 6,
   "metadata": {},
   "outputs": [
    {
     "name": "stdout",
     "output_type": "stream",
     "text": [
      "Ciruela\n"
     ]
    }
   ],
   "source": [
    "print(random.choice(mis_frutas))"
   ]
  },
  {
   "cell_type": "code",
   "execution_count": 7,
   "metadata": {},
   "outputs": [
    {
     "name": "stdout",
     "output_type": "stream",
     "text": [
      "e\n"
     ]
    }
   ],
   "source": [
    "print(random.choice(\"Ajolote\"))"
   ]
  },
  {
   "attachments": {},
   "cell_type": "markdown",
   "metadata": {},
   "source": [
    "## Actividad 10\n",
    "Añadir 15 letras aleatorias a nuestra variable texto con un ciclo for"
   ]
  },
  {
   "cell_type": "code",
   "execution_count": 14,
   "metadata": {},
   "outputs": [
    {
     "name": "stdout",
     "output_type": "stream",
     "text": [
      "euuiuaaoie\n"
     ]
    }
   ],
   "source": [
    "string_vacio = \"\"\n",
    "for letra in range(10):\n",
    "    string_vacio += random.choice(\"aeiou\")\n",
    "print(string_vacio)\n"
   ]
  },
  {
   "attachments": {},
   "cell_type": "markdown",
   "metadata": {},
   "source": [
    "## Metodo join\n",
    "Une una estructura de lista con el separador que se le pone como si fuera una cadena"
   ]
  },
  {
   "cell_type": "code",
   "execution_count": 15,
   "metadata": {},
   "outputs": [
    {
     "data": {
      "text/plain": [
       "'Hola Mundo En Python'"
      ]
     },
     "execution_count": 15,
     "metadata": {},
     "output_type": "execute_result"
    }
   ],
   "source": [
    "\" \".join([\"Hola\",\"Mundo\",\"En\",\"Python\"])"
   ]
  },
  {
   "cell_type": "code",
   "execution_count": 16,
   "metadata": {},
   "outputs": [
    {
     "data": {
      "text/plain": [
       "'aaeeuoaooi'"
      ]
     },
     "execution_count": 16,
     "metadata": {},
     "output_type": "execute_result"
    }
   ],
   "source": [
    "\"\".join([random.choice(\"aeiou\") for i in range(10)])"
   ]
  },
  {
   "attachments": {},
   "cell_type": "markdown",
   "metadata": {},
   "source": [
    "## Proyecto: Generador de contraseñas\n",
    "Paso 1: Pedir al usuario una longitud n que va a tener su contraseña\n",
    "\n",
    "Paso 2: Crear una funcion llamada\n",
    "'generador_contrasenias' y resibira un parametro 'longitud'\n",
    "\n",
    "Paso 3: Crear una string llamado 'letras' que va a contener de la  A-Z y a-z\n",
    "\n",
    "Paso 4: Despues hacer un ciclo for concatenar a nuestra variable \"letras\" un random.choice de nuestra string \"letras\"\n",
    "\n",
    "Paso 5: Despues hacer ciclo for que itere sobre longirud\n",
    "\n",
    "Paso 6: Dentro del ciclo for concatenar a nuestro string vacio un random.choice de nuestri string letras\n",
    "\n",
    "Paso 6: Devolver con return el strin vacio"
   ]
  },
  {
   "cell_type": "code",
   "execution_count": 26,
   "metadata": {},
   "outputs": [
    {
     "name": "stdout",
     "output_type": "stream",
     "text": [
      "Contraseña:  Kf1LajuZyz5E\n"
     ]
    }
   ],
   "source": [
    "def generador_contrasenias(longitud):\n",
    "    string_vacio = \"\"\n",
    "    letras = \"0123456789ABCDEFGHIJKLMNOPQRSTUVWXYZabcdefghijklmnopqrstuvwxyz\"\n",
    "    for i in range(longitud):\n",
    "        string_vacio += random.choice(letras)\n",
    "    return string_vacio\n",
    "\n",
    "contrasenia = \"\"\n",
    "tamanio = int(input(\"Ingrese la longitud de la contrasenia: \"))\n",
    "contrasenia = generador_contrasenias(tamanio)\n",
    "print(\"Contraseña: \",cadena)"
   ]
  },
  {
   "attachments": {},
   "cell_type": "markdown",
   "metadata": {},
   "source": [
    "## List Comprehension"
   ]
  },
  {
   "cell_type": "code",
   "execution_count": 27,
   "metadata": {},
   "outputs": [
    {
     "data": {
      "text/plain": [
       "[0, 1, 4, 9, 16, 25, 36, 49, 64, 81]"
      ]
     },
     "execution_count": 27,
     "metadata": {},
     "output_type": "execute_result"
    }
   ],
   "source": [
    "[ i**2 for i in range(10)]"
   ]
  },
  {
   "cell_type": "code",
   "execution_count": 28,
   "metadata": {},
   "outputs": [
    {
     "data": {
      "text/plain": [
       "[36, 49, 64, 81]"
      ]
     },
     "execution_count": 28,
     "metadata": {},
     "output_type": "execute_result"
    }
   ],
   "source": [
    "[  i**2 for i in range(10) if i**2>25]"
   ]
  },
  {
   "attachments": {},
   "cell_type": "markdown",
   "metadata": {},
   "source": [
    "## Dict Comprehension"
   ]
  },
  {
   "cell_type": "code",
   "execution_count": null,
   "metadata": {},
   "outputs": [],
   "source": []
  }
 ],
 "metadata": {
  "kernelspec": {
   "display_name": "Python 3",
   "language": "python",
   "name": "python3"
  },
  "language_info": {
   "codemirror_mode": {
    "name": "ipython",
    "version": 3
   },
   "file_extension": ".py",
   "mimetype": "text/x-python",
   "name": "python",
   "nbconvert_exporter": "python",
   "pygments_lexer": "ipython3",
   "version": "3.11.0"
  },
  "orig_nbformat": 4,
  "vscode": {
   "interpreter": {
    "hash": "c261aea317cc0286b3b3261fbba9abdec21eaa57589985bb7a274bf54d6cc0a7"
   }
  }
 },
 "nbformat": 4,
 "nbformat_minor": 2
}
